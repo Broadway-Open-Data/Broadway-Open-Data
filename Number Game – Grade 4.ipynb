{
  "nbformat": 4,
  "nbformat_minor": 0,
  "metadata": {
    "colab": {
      "name": "Number Game – Grade 4.ipynb",
      "provenance": [],
      "private_outputs": true,
      "collapsed_sections": [],
      "authorship_tag": "ABX9TyOzWyr0xUcb04nVrhYp8nw6",
      "include_colab_link": true
    },
    "kernelspec": {
      "name": "python3",
      "display_name": "Python 3"
    }
  },
  "cells": [
    {
      "cell_type": "markdown",
      "metadata": {
        "id": "view-in-github",
        "colab_type": "text"
      },
      "source": [
        "<a href=\"https://colab.research.google.com/github/ybressler/Broadway-Data/blob/master/Number%20Game%20%E2%80%93%20Grade%204.ipynb\" target=\"_parent\"><img src=\"https://colab.research.google.com/assets/colab-badge.svg\" alt=\"Open In Colab\"/></a>"
      ]
    },
    {
      "cell_type": "markdown",
      "metadata": {
        "id": "WBARMKTL6UKt",
        "colab_type": "text"
      },
      "source": [
        "# Number Game"
      ]
    },
    {
      "cell_type": "code",
      "metadata": {
        "id": "hmg8unvW7Ah6",
        "colab_type": "code",
        "colab": {}
      },
      "source": [
        "import ipywidgets as widgets\n",
        "from IPython.display import display\n",
        "import time"
      ],
      "execution_count": 0,
      "outputs": []
    },
    {
      "cell_type": "code",
      "metadata": {
        "id": "BlTO7dbu7wTf",
        "colab_type": "code",
        "colab": {}
      },
      "source": [
        "button_yes = widgets.Button(description=\"Yes\")\n",
        "button_no = widgets.Button(description=\"No\")\n",
        "\n",
        "button_row = widgets.Box([button_yes,button_no])\n",
        "\n",
        "display(button_row)"
      ],
      "execution_count": 0,
      "outputs": []
    },
    {
      "cell_type": "code",
      "metadata": {
        "id": "AKLqrOYv-_y5",
        "colab_type": "code",
        "colab": {}
      },
      "source": [
        "def on_yes(b):\n",
        "  # This is a callback for the button\n",
        "  print(\"something\")\n",
        "\n",
        "button_yes.on_click(on_yes)\n",
        "\n",
        "# =============================================\n",
        "\n",
        "def on_no(b):\n",
        "  # This is a callback for the button\n",
        "  print(\"NO\")\n",
        "\n",
        "button_no.on_click(on_no)"
      ],
      "execution_count": 0,
      "outputs": []
    }
  ]
}